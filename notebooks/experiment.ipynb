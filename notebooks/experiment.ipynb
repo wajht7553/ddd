{
 "cells": [
  {
   "cell_type": "markdown",
   "id": "4abb8643",
   "metadata": {},
   "source": [
    "# BYOL Experiment Notebook\n",
    "\n",
    "Use this notebook for exploratory experiments with your BYOL pipeline.\n"
   ]
  }
 ],
 "metadata": {
  "language_info": {
   "name": "python"
  }
 },
 "nbformat": 4,
 "nbformat_minor": 5
}
